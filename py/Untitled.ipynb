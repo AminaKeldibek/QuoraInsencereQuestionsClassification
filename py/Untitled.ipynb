{
 "cells": [
  {
   "cell_type": "code",
   "execution_count": 1,
   "metadata": {
    "collapsed": true
   },
   "outputs": [],
   "source": [
    "import pandas as pd\n",
    "import numpy as np\n",
    "import nltk\n",
    "\n",
    "from data_model import *"
   ]
  },
  {
   "cell_type": "code",
   "execution_count": 2,
   "metadata": {},
   "outputs": [],
   "source": [
    "questions = pd.read_csv(\"../data/train.csv\", usecols=[\"question_text\"], nrows=5, index_col=False)"
   ]
  },
  {
   "cell_type": "code",
   "execution_count": 3,
   "metadata": {},
   "outputs": [],
   "source": [
    "data = QuoraQuestionsModel(DataConfig())\n",
    "data.load_dicts()"
   ]
  },
  {
   "cell_type": "code",
   "execution_count": 4,
   "metadata": {},
   "outputs": [
    {
     "name": "stdout",
     "output_type": "stream",
     "text": [
      "['how', 'did', 'quebec', 'nationalists', 'see', 'their', 'province', 'as', 'a', 'nation', 'in', 'the', '1960s', '?']\n",
      "[104, 127, 63665, 62681, 118, 58, 7599, 28, 6, 1990, 7, 2, 10310, 37]\n",
      "['do', 'you', 'have', 'an', 'adopted', 'dog', ',', 'how', 'would', 'you', 'encourage', 'people', 'to', 'adopt', 'and', 'not', 'shop', '?']\n",
      "[47, 18, 31, 39, 4980, 1157, 0, 104, 69, 18, 3546, 99, 4, 8109, 3, 35, 1432, 37]\n",
      "['why', 'does', 'velocity', 'affect', 'time', '?', 'does', 'velocity', 'affect', 'space', 'geometry', '?']\n",
      "[297, 154, 13154, 3068, 77, 37, 154, 13154, 3068, 751, 14950, 37]\n",
      "['how', 'did', 'otto', 'von', 'guericke', 'used', 'the', 'magdeburg', 'hemispheres', '?']\n",
      "[104, 127, 135074, 7612, 2196017, 183, 2, 1109810, 80269, 37]\n",
      "['can', 'i', 'convert', 'montra', 'helicon', 'd', 'to', 'a', 'mountain', 'bike', 'by', 'just', 'changing', 'the', 'tyres', '?']\n",
      "[41, 108, 4227, 1085748, 613804, 1674, 4, 6, 3554, 2389, 24, 75, 2388, 2, 21189, 37]\n"
     ]
    }
   ],
   "source": [
    "unknown_idx = data.word2idx[data.config.unknown_token]\n",
    "for quest in questions.question_text:\n",
    "    tokens = nltk.word_tokenize(quest.lower())\n",
    "    idxs = [data.word2idx.get(token, unknown_idx) for token in tokens]\n",
    "    print (tokens)\n",
    "    print (idxs)"
   ]
  },
  {
   "cell_type": "code",
   "execution_count": 5,
   "metadata": {},
   "outputs": [
    {
     "data": {
      "text/plain": [
       "2196017"
      ]
     },
     "execution_count": 5,
     "metadata": {},
     "output_type": "execute_result"
    }
   ],
   "source": [
    "unknown_idx"
   ]
  },
  {
   "cell_type": "code",
   "execution_count": 6,
   "metadata": {
    "collapsed": true
   },
   "outputs": [],
   "source": [
    "data.word2idx.get(\"blabl\")"
   ]
  },
  {
   "cell_type": "code",
   "execution_count": 7,
   "metadata": {
    "collapsed": true
   },
   "outputs": [],
   "source": [
    "tokens = [\"blabl\", 'am']"
   ]
  },
  {
   "cell_type": "code",
   "execution_count": 16,
   "metadata": {},
   "outputs": [
    {
     "data": {
      "text/plain": [
       "[116]"
      ]
     },
     "execution_count": 16,
     "metadata": {},
     "output_type": "execute_result"
    }
   ],
   "source": [
    "idxs = [data.word2idx.get(token) for token in tokens]\n",
    "[idx for idx in idxs if idx]"
   ]
  },
  {
   "cell_type": "code",
   "execution_count": 19,
   "metadata": {
    "collapsed": true
   },
   "outputs": [],
   "source": [
    "f = open(\"../data/processed/parsed_questions.bin\", 'rb')\n",
    "labels = pickle.Unpickler(f).load()"
   ]
  },
  {
   "cell_type": "code",
   "execution_count": 28,
   "metadata": {},
   "outputs": [
    {
     "data": {
      "text/plain": [
       "[47,\n",
       " 18,\n",
       " 31,\n",
       " 39,\n",
       " 4980,\n",
       " 1157,\n",
       " 0,\n",
       " 104,\n",
       " 69,\n",
       " 18,\n",
       " 3546,\n",
       " 99,\n",
       " 4,\n",
       " 8109,\n",
       " 3,\n",
       " 35,\n",
       " 1432,\n",
       " 37]"
      ]
     },
     "execution_count": 28,
     "metadata": {},
     "output_type": "execute_result"
    }
   ],
   "source": [
    "labels[1]"
   ]
  },
  {
   "cell_type": "code",
   "execution_count": 29,
   "metadata": {
    "collapsed": true
   },
   "outputs": [],
   "source": [
    "del labels"
   ]
  },
  {
   "cell_type": "code",
   "execution_count": 30,
   "metadata": {},
   "outputs": [
    {
     "ename": "NameError",
     "evalue": "name 'labels' is not defined",
     "output_type": "error",
     "traceback": [
      "\u001b[0;31m---------------------------------------------------------------------------\u001b[0m",
      "\u001b[0;31mNameError\u001b[0m                                 Traceback (most recent call last)",
      "\u001b[0;32m<ipython-input-30-6c7189e7614b>\u001b[0m in \u001b[0;36m<module>\u001b[0;34m()\u001b[0m\n\u001b[0;32m----> 1\u001b[0;31m \u001b[0mlabels\u001b[0m\u001b[0;34m\u001b[0m\u001b[0m\n\u001b[0m",
      "\u001b[0;31mNameError\u001b[0m: name 'labels' is not defined"
     ]
    }
   ],
   "source": [
    "labels"
   ]
  },
  {
   "cell_type": "code",
   "execution_count": null,
   "metadata": {
    "collapsed": true
   },
   "outputs": [],
   "source": []
  }
 ],
 "metadata": {
  "kernelspec": {
   "display_name": "Python 3.6",
   "language": "python",
   "name": "python3"
  },
  "language_info": {
   "codemirror_mode": {
    "name": "ipython",
    "version": 3
   },
   "file_extension": ".py",
   "mimetype": "text/x-python",
   "name": "python",
   "nbconvert_exporter": "python",
   "pygments_lexer": "ipython3",
   "version": "3.6.3"
  }
 },
 "nbformat": 4,
 "nbformat_minor": 2
}
